{
 "cells": [
  {
   "cell_type": "code",
   "execution_count": 42,
   "metadata": {},
   "outputs": [],
   "source": [
    "import pandas as pd\n",
    "import plotly.express as px\n",
    "import plotly.graph_objects as go"
   ]
  },
  {
   "cell_type": "code",
   "execution_count": 43,
   "metadata": {},
   "outputs": [],
   "source": [
    "data = pd.read_csv('output.csv')"
   ]
  },
  {
   "cell_type": "code",
   "execution_count": 44,
   "metadata": {},
   "outputs": [
    {
     "data": {
      "text/html": [
       "<div>\n",
       "<style scoped>\n",
       "    .dataframe tbody tr th:only-of-type {\n",
       "        vertical-align: middle;\n",
       "    }\n",
       "\n",
       "    .dataframe tbody tr th {\n",
       "        vertical-align: top;\n",
       "    }\n",
       "\n",
       "    .dataframe thead th {\n",
       "        text-align: right;\n",
       "    }\n",
       "</style>\n",
       "<table border=\"1\" class=\"dataframe\">\n",
       "  <thead>\n",
       "    <tr style=\"text-align: right;\">\n",
       "      <th></th>\n",
       "      <th>N</th>\n",
       "      <th>Ms-output-seq</th>\n",
       "      <th>Ms-output-par-2</th>\n",
       "      <th>Ms-output-par-4</th>\n",
       "      <th>Ms-output-par-5</th>\n",
       "      <th>Ms-output-par-8</th>\n",
       "    </tr>\n",
       "  </thead>\n",
       "  <tbody>\n",
       "    <tr>\n",
       "      <th>0</th>\n",
       "      <td>1500</td>\n",
       "      <td>11</td>\n",
       "      <td>37</td>\n",
       "      <td>22</td>\n",
       "      <td>55</td>\n",
       "      <td>40</td>\n",
       "    </tr>\n",
       "    <tr>\n",
       "      <th>1</th>\n",
       "      <td>28850</td>\n",
       "      <td>232</td>\n",
       "      <td>522</td>\n",
       "      <td>255</td>\n",
       "      <td>232</td>\n",
       "      <td>327</td>\n",
       "    </tr>\n",
       "    <tr>\n",
       "      <th>2</th>\n",
       "      <td>56200</td>\n",
       "      <td>419</td>\n",
       "      <td>455</td>\n",
       "      <td>424</td>\n",
       "      <td>387</td>\n",
       "      <td>443</td>\n",
       "    </tr>\n",
       "    <tr>\n",
       "      <th>3</th>\n",
       "      <td>83550</td>\n",
       "      <td>611</td>\n",
       "      <td>565</td>\n",
       "      <td>551</td>\n",
       "      <td>560</td>\n",
       "      <td>540</td>\n",
       "    </tr>\n",
       "    <tr>\n",
       "      <th>4</th>\n",
       "      <td>110900</td>\n",
       "      <td>793</td>\n",
       "      <td>746</td>\n",
       "      <td>703</td>\n",
       "      <td>707</td>\n",
       "      <td>723</td>\n",
       "    </tr>\n",
       "    <tr>\n",
       "      <th>5</th>\n",
       "      <td>138250</td>\n",
       "      <td>997</td>\n",
       "      <td>911</td>\n",
       "      <td>882</td>\n",
       "      <td>872</td>\n",
       "      <td>865</td>\n",
       "    </tr>\n",
       "    <tr>\n",
       "      <th>6</th>\n",
       "      <td>165600</td>\n",
       "      <td>1209</td>\n",
       "      <td>1042</td>\n",
       "      <td>1027</td>\n",
       "      <td>1063</td>\n",
       "      <td>1031</td>\n",
       "    </tr>\n",
       "    <tr>\n",
       "      <th>7</th>\n",
       "      <td>192950</td>\n",
       "      <td>1395</td>\n",
       "      <td>1228</td>\n",
       "      <td>1191</td>\n",
       "      <td>1210</td>\n",
       "      <td>1190</td>\n",
       "    </tr>\n",
       "    <tr>\n",
       "      <th>8</th>\n",
       "      <td>220300</td>\n",
       "      <td>1623</td>\n",
       "      <td>1386</td>\n",
       "      <td>1375</td>\n",
       "      <td>1407</td>\n",
       "      <td>1438</td>\n",
       "    </tr>\n",
       "    <tr>\n",
       "      <th>9</th>\n",
       "      <td>247650</td>\n",
       "      <td>1797</td>\n",
       "      <td>1675</td>\n",
       "      <td>1540</td>\n",
       "      <td>1554</td>\n",
       "      <td>1551</td>\n",
       "    </tr>\n",
       "    <tr>\n",
       "      <th>10</th>\n",
       "      <td>275000</td>\n",
       "      <td>2000</td>\n",
       "      <td>1781</td>\n",
       "      <td>1682</td>\n",
       "      <td>1725</td>\n",
       "      <td>1717</td>\n",
       "    </tr>\n",
       "  </tbody>\n",
       "</table>\n",
       "</div>"
      ],
      "text/plain": [
       "         N  Ms-output-seq  Ms-output-par-2  Ms-output-par-4  Ms-output-par-5  \\\n",
       "0     1500             11               37               22               55   \n",
       "1    28850            232              522              255              232   \n",
       "2    56200            419              455              424              387   \n",
       "3    83550            611              565              551              560   \n",
       "4   110900            793              746              703              707   \n",
       "5   138250            997              911              882              872   \n",
       "6   165600           1209             1042             1027             1063   \n",
       "7   192950           1395             1228             1191             1210   \n",
       "8   220300           1623             1386             1375             1407   \n",
       "9   247650           1797             1675             1540             1554   \n",
       "10  275000           2000             1781             1682             1725   \n",
       "\n",
       "    Ms-output-par-8  \n",
       "0                40  \n",
       "1               327  \n",
       "2               443  \n",
       "3               540  \n",
       "4               723  \n",
       "5               865  \n",
       "6              1031  \n",
       "7              1190  \n",
       "8              1438  \n",
       "9              1551  \n",
       "10             1717  "
      ]
     },
     "execution_count": 44,
     "metadata": {},
     "output_type": "execute_result"
    }
   ],
   "source": [
    "data"
   ]
  },
  {
   "cell_type": "code",
   "execution_count": 45,
   "metadata": {},
   "outputs": [
    {
     "data": {
      "application/vnd.plotly.v1+json": {
       "config": {
        "plotlyServerURL": "https://plot.ly"
       },
       "data": [
        {
         "name": "seq",
         "type": "scatter",
         "x": [
          1500,
          28850,
          56200,
          83550,
          110900,
          138250,
          165600,
          192950,
          220300,
          247650,
          275000
         ],
         "y": [
          11,
          232,
          419,
          611,
          793,
          997,
          1209,
          1395,
          1623,
          1797,
          2000
         ]
        },
        {
         "name": "par-2",
         "type": "scatter",
         "x": [
          1500,
          28850,
          56200,
          83550,
          110900,
          138250,
          165600,
          192950,
          220300,
          247650,
          275000
         ],
         "y": [
          37,
          522,
          455,
          565,
          746,
          911,
          1042,
          1228,
          1386,
          1675,
          1781
         ]
        },
        {
         "name": "par-4",
         "type": "scatter",
         "x": [
          1500,
          28850,
          56200,
          83550,
          110900,
          138250,
          165600,
          192950,
          220300,
          247650,
          275000
         ],
         "y": [
          22,
          255,
          424,
          551,
          703,
          882,
          1027,
          1191,
          1375,
          1540,
          1682
         ]
        },
        {
         "name": "par-5",
         "type": "scatter",
         "x": [
          1500,
          28850,
          56200,
          83550,
          110900,
          138250,
          165600,
          192950,
          220300,
          247650,
          275000
         ],
         "y": [
          55,
          232,
          387,
          560,
          707,
          872,
          1063,
          1210,
          1407,
          1554,
          1725
         ]
        },
        {
         "name": "par-8",
         "type": "scatter",
         "x": [
          1500,
          28850,
          56200,
          83550,
          110900,
          138250,
          165600,
          192950,
          220300,
          247650,
          275000
         ],
         "y": [
          40,
          327,
          443,
          540,
          723,
          865,
          1031,
          1190,
          1438,
          1551,
          1717
         ]
        }
       ],
       "layout": {
        "template": {
         "data": {
          "bar": [
           {
            "error_x": {
             "color": "#2a3f5f"
            },
            "error_y": {
             "color": "#2a3f5f"
            },
            "marker": {
             "line": {
              "color": "#E5ECF6",
              "width": 0.5
             }
            },
            "type": "bar"
           }
          ],
          "barpolar": [
           {
            "marker": {
             "line": {
              "color": "#E5ECF6",
              "width": 0.5
             }
            },
            "type": "barpolar"
           }
          ],
          "carpet": [
           {
            "aaxis": {
             "endlinecolor": "#2a3f5f",
             "gridcolor": "white",
             "linecolor": "white",
             "minorgridcolor": "white",
             "startlinecolor": "#2a3f5f"
            },
            "baxis": {
             "endlinecolor": "#2a3f5f",
             "gridcolor": "white",
             "linecolor": "white",
             "minorgridcolor": "white",
             "startlinecolor": "#2a3f5f"
            },
            "type": "carpet"
           }
          ],
          "choropleth": [
           {
            "colorbar": {
             "outlinewidth": 0,
             "ticks": ""
            },
            "type": "choropleth"
           }
          ],
          "contour": [
           {
            "colorbar": {
             "outlinewidth": 0,
             "ticks": ""
            },
            "colorscale": [
             [
              0,
              "#0d0887"
             ],
             [
              0.1111111111111111,
              "#46039f"
             ],
             [
              0.2222222222222222,
              "#7201a8"
             ],
             [
              0.3333333333333333,
              "#9c179e"
             ],
             [
              0.4444444444444444,
              "#bd3786"
             ],
             [
              0.5555555555555556,
              "#d8576b"
             ],
             [
              0.6666666666666666,
              "#ed7953"
             ],
             [
              0.7777777777777778,
              "#fb9f3a"
             ],
             [
              0.8888888888888888,
              "#fdca26"
             ],
             [
              1,
              "#f0f921"
             ]
            ],
            "type": "contour"
           }
          ],
          "contourcarpet": [
           {
            "colorbar": {
             "outlinewidth": 0,
             "ticks": ""
            },
            "type": "contourcarpet"
           }
          ],
          "heatmap": [
           {
            "colorbar": {
             "outlinewidth": 0,
             "ticks": ""
            },
            "colorscale": [
             [
              0,
              "#0d0887"
             ],
             [
              0.1111111111111111,
              "#46039f"
             ],
             [
              0.2222222222222222,
              "#7201a8"
             ],
             [
              0.3333333333333333,
              "#9c179e"
             ],
             [
              0.4444444444444444,
              "#bd3786"
             ],
             [
              0.5555555555555556,
              "#d8576b"
             ],
             [
              0.6666666666666666,
              "#ed7953"
             ],
             [
              0.7777777777777778,
              "#fb9f3a"
             ],
             [
              0.8888888888888888,
              "#fdca26"
             ],
             [
              1,
              "#f0f921"
             ]
            ],
            "type": "heatmap"
           }
          ],
          "heatmapgl": [
           {
            "colorbar": {
             "outlinewidth": 0,
             "ticks": ""
            },
            "colorscale": [
             [
              0,
              "#0d0887"
             ],
             [
              0.1111111111111111,
              "#46039f"
             ],
             [
              0.2222222222222222,
              "#7201a8"
             ],
             [
              0.3333333333333333,
              "#9c179e"
             ],
             [
              0.4444444444444444,
              "#bd3786"
             ],
             [
              0.5555555555555556,
              "#d8576b"
             ],
             [
              0.6666666666666666,
              "#ed7953"
             ],
             [
              0.7777777777777778,
              "#fb9f3a"
             ],
             [
              0.8888888888888888,
              "#fdca26"
             ],
             [
              1,
              "#f0f921"
             ]
            ],
            "type": "heatmapgl"
           }
          ],
          "histogram": [
           {
            "marker": {
             "colorbar": {
              "outlinewidth": 0,
              "ticks": ""
             }
            },
            "type": "histogram"
           }
          ],
          "histogram2d": [
           {
            "colorbar": {
             "outlinewidth": 0,
             "ticks": ""
            },
            "colorscale": [
             [
              0,
              "#0d0887"
             ],
             [
              0.1111111111111111,
              "#46039f"
             ],
             [
              0.2222222222222222,
              "#7201a8"
             ],
             [
              0.3333333333333333,
              "#9c179e"
             ],
             [
              0.4444444444444444,
              "#bd3786"
             ],
             [
              0.5555555555555556,
              "#d8576b"
             ],
             [
              0.6666666666666666,
              "#ed7953"
             ],
             [
              0.7777777777777778,
              "#fb9f3a"
             ],
             [
              0.8888888888888888,
              "#fdca26"
             ],
             [
              1,
              "#f0f921"
             ]
            ],
            "type": "histogram2d"
           }
          ],
          "histogram2dcontour": [
           {
            "colorbar": {
             "outlinewidth": 0,
             "ticks": ""
            },
            "colorscale": [
             [
              0,
              "#0d0887"
             ],
             [
              0.1111111111111111,
              "#46039f"
             ],
             [
              0.2222222222222222,
              "#7201a8"
             ],
             [
              0.3333333333333333,
              "#9c179e"
             ],
             [
              0.4444444444444444,
              "#bd3786"
             ],
             [
              0.5555555555555556,
              "#d8576b"
             ],
             [
              0.6666666666666666,
              "#ed7953"
             ],
             [
              0.7777777777777778,
              "#fb9f3a"
             ],
             [
              0.8888888888888888,
              "#fdca26"
             ],
             [
              1,
              "#f0f921"
             ]
            ],
            "type": "histogram2dcontour"
           }
          ],
          "mesh3d": [
           {
            "colorbar": {
             "outlinewidth": 0,
             "ticks": ""
            },
            "type": "mesh3d"
           }
          ],
          "parcoords": [
           {
            "line": {
             "colorbar": {
              "outlinewidth": 0,
              "ticks": ""
             }
            },
            "type": "parcoords"
           }
          ],
          "pie": [
           {
            "automargin": true,
            "type": "pie"
           }
          ],
          "scatter": [
           {
            "marker": {
             "colorbar": {
              "outlinewidth": 0,
              "ticks": ""
             }
            },
            "type": "scatter"
           }
          ],
          "scatter3d": [
           {
            "line": {
             "colorbar": {
              "outlinewidth": 0,
              "ticks": ""
             }
            },
            "marker": {
             "colorbar": {
              "outlinewidth": 0,
              "ticks": ""
             }
            },
            "type": "scatter3d"
           }
          ],
          "scattercarpet": [
           {
            "marker": {
             "colorbar": {
              "outlinewidth": 0,
              "ticks": ""
             }
            },
            "type": "scattercarpet"
           }
          ],
          "scattergeo": [
           {
            "marker": {
             "colorbar": {
              "outlinewidth": 0,
              "ticks": ""
             }
            },
            "type": "scattergeo"
           }
          ],
          "scattergl": [
           {
            "marker": {
             "colorbar": {
              "outlinewidth": 0,
              "ticks": ""
             }
            },
            "type": "scattergl"
           }
          ],
          "scattermapbox": [
           {
            "marker": {
             "colorbar": {
              "outlinewidth": 0,
              "ticks": ""
             }
            },
            "type": "scattermapbox"
           }
          ],
          "scatterpolar": [
           {
            "marker": {
             "colorbar": {
              "outlinewidth": 0,
              "ticks": ""
             }
            },
            "type": "scatterpolar"
           }
          ],
          "scatterpolargl": [
           {
            "marker": {
             "colorbar": {
              "outlinewidth": 0,
              "ticks": ""
             }
            },
            "type": "scatterpolargl"
           }
          ],
          "scatterternary": [
           {
            "marker": {
             "colorbar": {
              "outlinewidth": 0,
              "ticks": ""
             }
            },
            "type": "scatterternary"
           }
          ],
          "surface": [
           {
            "colorbar": {
             "outlinewidth": 0,
             "ticks": ""
            },
            "colorscale": [
             [
              0,
              "#0d0887"
             ],
             [
              0.1111111111111111,
              "#46039f"
             ],
             [
              0.2222222222222222,
              "#7201a8"
             ],
             [
              0.3333333333333333,
              "#9c179e"
             ],
             [
              0.4444444444444444,
              "#bd3786"
             ],
             [
              0.5555555555555556,
              "#d8576b"
             ],
             [
              0.6666666666666666,
              "#ed7953"
             ],
             [
              0.7777777777777778,
              "#fb9f3a"
             ],
             [
              0.8888888888888888,
              "#fdca26"
             ],
             [
              1,
              "#f0f921"
             ]
            ],
            "type": "surface"
           }
          ],
          "table": [
           {
            "cells": {
             "fill": {
              "color": "#EBF0F8"
             },
             "line": {
              "color": "white"
             }
            },
            "header": {
             "fill": {
              "color": "#C8D4E3"
             },
             "line": {
              "color": "white"
             }
            },
            "type": "table"
           }
          ]
         },
         "layout": {
          "annotationdefaults": {
           "arrowcolor": "#2a3f5f",
           "arrowhead": 0,
           "arrowwidth": 1
          },
          "coloraxis": {
           "colorbar": {
            "outlinewidth": 0,
            "ticks": ""
           }
          },
          "colorscale": {
           "diverging": [
            [
             0,
             "#8e0152"
            ],
            [
             0.1,
             "#c51b7d"
            ],
            [
             0.2,
             "#de77ae"
            ],
            [
             0.3,
             "#f1b6da"
            ],
            [
             0.4,
             "#fde0ef"
            ],
            [
             0.5,
             "#f7f7f7"
            ],
            [
             0.6,
             "#e6f5d0"
            ],
            [
             0.7,
             "#b8e186"
            ],
            [
             0.8,
             "#7fbc41"
            ],
            [
             0.9,
             "#4d9221"
            ],
            [
             1,
             "#276419"
            ]
           ],
           "sequential": [
            [
             0,
             "#0d0887"
            ],
            [
             0.1111111111111111,
             "#46039f"
            ],
            [
             0.2222222222222222,
             "#7201a8"
            ],
            [
             0.3333333333333333,
             "#9c179e"
            ],
            [
             0.4444444444444444,
             "#bd3786"
            ],
            [
             0.5555555555555556,
             "#d8576b"
            ],
            [
             0.6666666666666666,
             "#ed7953"
            ],
            [
             0.7777777777777778,
             "#fb9f3a"
            ],
            [
             0.8888888888888888,
             "#fdca26"
            ],
            [
             1,
             "#f0f921"
            ]
           ],
           "sequentialminus": [
            [
             0,
             "#0d0887"
            ],
            [
             0.1111111111111111,
             "#46039f"
            ],
            [
             0.2222222222222222,
             "#7201a8"
            ],
            [
             0.3333333333333333,
             "#9c179e"
            ],
            [
             0.4444444444444444,
             "#bd3786"
            ],
            [
             0.5555555555555556,
             "#d8576b"
            ],
            [
             0.6666666666666666,
             "#ed7953"
            ],
            [
             0.7777777777777778,
             "#fb9f3a"
            ],
            [
             0.8888888888888888,
             "#fdca26"
            ],
            [
             1,
             "#f0f921"
            ]
           ]
          },
          "colorway": [
           "#636efa",
           "#EF553B",
           "#00cc96",
           "#ab63fa",
           "#FFA15A",
           "#19d3f3",
           "#FF6692",
           "#B6E880",
           "#FF97FF",
           "#FECB52"
          ],
          "font": {
           "color": "#2a3f5f"
          },
          "geo": {
           "bgcolor": "white",
           "lakecolor": "white",
           "landcolor": "#E5ECF6",
           "showlakes": true,
           "showland": true,
           "subunitcolor": "white"
          },
          "hoverlabel": {
           "align": "left"
          },
          "hovermode": "closest",
          "mapbox": {
           "style": "light"
          },
          "paper_bgcolor": "white",
          "plot_bgcolor": "#E5ECF6",
          "polar": {
           "angularaxis": {
            "gridcolor": "white",
            "linecolor": "white",
            "ticks": ""
           },
           "bgcolor": "#E5ECF6",
           "radialaxis": {
            "gridcolor": "white",
            "linecolor": "white",
            "ticks": ""
           }
          },
          "scene": {
           "xaxis": {
            "backgroundcolor": "#E5ECF6",
            "gridcolor": "white",
            "gridwidth": 2,
            "linecolor": "white",
            "showbackground": true,
            "ticks": "",
            "zerolinecolor": "white"
           },
           "yaxis": {
            "backgroundcolor": "#E5ECF6",
            "gridcolor": "white",
            "gridwidth": 2,
            "linecolor": "white",
            "showbackground": true,
            "ticks": "",
            "zerolinecolor": "white"
           },
           "zaxis": {
            "backgroundcolor": "#E5ECF6",
            "gridcolor": "white",
            "gridwidth": 2,
            "linecolor": "white",
            "showbackground": true,
            "ticks": "",
            "zerolinecolor": "white"
           }
          },
          "shapedefaults": {
           "line": {
            "color": "#2a3f5f"
           }
          },
          "ternary": {
           "aaxis": {
            "gridcolor": "white",
            "linecolor": "white",
            "ticks": ""
           },
           "baxis": {
            "gridcolor": "white",
            "linecolor": "white",
            "ticks": ""
           },
           "bgcolor": "#E5ECF6",
           "caxis": {
            "gridcolor": "white",
            "linecolor": "white",
            "ticks": ""
           }
          },
          "title": {
           "x": 0.05
          },
          "xaxis": {
           "automargin": true,
           "gridcolor": "white",
           "linecolor": "white",
           "ticks": "",
           "title": {
            "standoff": 15
           },
           "zerolinecolor": "white",
           "zerolinewidth": 2
          },
          "yaxis": {
           "automargin": true,
           "gridcolor": "white",
           "linecolor": "white",
           "ticks": "",
           "title": {
            "standoff": 15
           },
           "zerolinecolor": "white",
           "zerolinewidth": 2
          }
         }
        },
        "title": {
         "text": "График времени выполнения программы на N-элементов в K-потоков"
        },
        "xaxis": {
         "title": {
          "text": "N, elements"
         }
        },
        "yaxis": {
         "title": {
          "text": "Time, ms"
         }
        }
       }
      },
      "text/html": [
       "<div>                            <div id=\"b740ae81-f925-461c-915c-9ed3b274a013\" class=\"plotly-graph-div\" style=\"height:525px; width:100%;\"></div>            <script type=\"text/javascript\">                require([\"plotly\"], function(Plotly) {                    window.PLOTLYENV=window.PLOTLYENV || {};                                    if (document.getElementById(\"b740ae81-f925-461c-915c-9ed3b274a013\")) {                    Plotly.newPlot(                        \"b740ae81-f925-461c-915c-9ed3b274a013\",                        [{\"name\": \"seq\", \"type\": \"scatter\", \"x\": [1500, 28850, 56200, 83550, 110900, 138250, 165600, 192950, 220300, 247650, 275000], \"y\": [11, 232, 419, 611, 793, 997, 1209, 1395, 1623, 1797, 2000]}, {\"name\": \"par-2\", \"type\": \"scatter\", \"x\": [1500, 28850, 56200, 83550, 110900, 138250, 165600, 192950, 220300, 247650, 275000], \"y\": [37, 522, 455, 565, 746, 911, 1042, 1228, 1386, 1675, 1781]}, {\"name\": \"par-4\", \"type\": \"scatter\", \"x\": [1500, 28850, 56200, 83550, 110900, 138250, 165600, 192950, 220300, 247650, 275000], \"y\": [22, 255, 424, 551, 703, 882, 1027, 1191, 1375, 1540, 1682]}, {\"name\": \"par-5\", \"type\": \"scatter\", \"x\": [1500, 28850, 56200, 83550, 110900, 138250, 165600, 192950, 220300, 247650, 275000], \"y\": [55, 232, 387, 560, 707, 872, 1063, 1210, 1407, 1554, 1725]}, {\"name\": \"par-8\", \"type\": \"scatter\", \"x\": [1500, 28850, 56200, 83550, 110900, 138250, 165600, 192950, 220300, 247650, 275000], \"y\": [40, 327, 443, 540, 723, 865, 1031, 1190, 1438, 1551, 1717]}],                        {\"template\": {\"data\": {\"bar\": [{\"error_x\": {\"color\": \"#2a3f5f\"}, \"error_y\": {\"color\": \"#2a3f5f\"}, \"marker\": {\"line\": {\"color\": \"#E5ECF6\", \"width\": 0.5}}, \"type\": \"bar\"}], \"barpolar\": [{\"marker\": {\"line\": {\"color\": \"#E5ECF6\", \"width\": 0.5}}, \"type\": \"barpolar\"}], \"carpet\": [{\"aaxis\": {\"endlinecolor\": \"#2a3f5f\", \"gridcolor\": \"white\", \"linecolor\": \"white\", \"minorgridcolor\": \"white\", \"startlinecolor\": \"#2a3f5f\"}, \"baxis\": {\"endlinecolor\": \"#2a3f5f\", \"gridcolor\": \"white\", \"linecolor\": \"white\", \"minorgridcolor\": \"white\", \"startlinecolor\": \"#2a3f5f\"}, \"type\": \"carpet\"}], \"choropleth\": [{\"colorbar\": {\"outlinewidth\": 0, \"ticks\": \"\"}, \"type\": \"choropleth\"}], \"contour\": [{\"colorbar\": {\"outlinewidth\": 0, \"ticks\": \"\"}, \"colorscale\": [[0.0, \"#0d0887\"], [0.1111111111111111, \"#46039f\"], [0.2222222222222222, \"#7201a8\"], [0.3333333333333333, \"#9c179e\"], [0.4444444444444444, \"#bd3786\"], [0.5555555555555556, \"#d8576b\"], [0.6666666666666666, \"#ed7953\"], [0.7777777777777778, \"#fb9f3a\"], [0.8888888888888888, \"#fdca26\"], [1.0, \"#f0f921\"]], \"type\": \"contour\"}], \"contourcarpet\": [{\"colorbar\": {\"outlinewidth\": 0, \"ticks\": \"\"}, \"type\": \"contourcarpet\"}], \"heatmap\": [{\"colorbar\": {\"outlinewidth\": 0, \"ticks\": \"\"}, \"colorscale\": [[0.0, \"#0d0887\"], [0.1111111111111111, \"#46039f\"], [0.2222222222222222, \"#7201a8\"], [0.3333333333333333, \"#9c179e\"], [0.4444444444444444, \"#bd3786\"], [0.5555555555555556, \"#d8576b\"], [0.6666666666666666, \"#ed7953\"], [0.7777777777777778, \"#fb9f3a\"], [0.8888888888888888, \"#fdca26\"], [1.0, \"#f0f921\"]], \"type\": \"heatmap\"}], \"heatmapgl\": [{\"colorbar\": {\"outlinewidth\": 0, \"ticks\": \"\"}, \"colorscale\": [[0.0, \"#0d0887\"], [0.1111111111111111, \"#46039f\"], [0.2222222222222222, \"#7201a8\"], [0.3333333333333333, \"#9c179e\"], [0.4444444444444444, \"#bd3786\"], [0.5555555555555556, \"#d8576b\"], [0.6666666666666666, \"#ed7953\"], [0.7777777777777778, \"#fb9f3a\"], [0.8888888888888888, \"#fdca26\"], [1.0, \"#f0f921\"]], \"type\": \"heatmapgl\"}], \"histogram\": [{\"marker\": {\"colorbar\": {\"outlinewidth\": 0, \"ticks\": \"\"}}, \"type\": \"histogram\"}], \"histogram2d\": [{\"colorbar\": {\"outlinewidth\": 0, \"ticks\": \"\"}, \"colorscale\": [[0.0, \"#0d0887\"], [0.1111111111111111, \"#46039f\"], [0.2222222222222222, \"#7201a8\"], [0.3333333333333333, \"#9c179e\"], [0.4444444444444444, \"#bd3786\"], [0.5555555555555556, \"#d8576b\"], [0.6666666666666666, \"#ed7953\"], [0.7777777777777778, \"#fb9f3a\"], [0.8888888888888888, \"#fdca26\"], [1.0, \"#f0f921\"]], \"type\": \"histogram2d\"}], \"histogram2dcontour\": [{\"colorbar\": {\"outlinewidth\": 0, \"ticks\": \"\"}, \"colorscale\": [[0.0, \"#0d0887\"], [0.1111111111111111, \"#46039f\"], [0.2222222222222222, \"#7201a8\"], [0.3333333333333333, \"#9c179e\"], [0.4444444444444444, \"#bd3786\"], [0.5555555555555556, \"#d8576b\"], [0.6666666666666666, \"#ed7953\"], [0.7777777777777778, \"#fb9f3a\"], [0.8888888888888888, \"#fdca26\"], [1.0, \"#f0f921\"]], \"type\": \"histogram2dcontour\"}], \"mesh3d\": [{\"colorbar\": {\"outlinewidth\": 0, \"ticks\": \"\"}, \"type\": \"mesh3d\"}], \"parcoords\": [{\"line\": {\"colorbar\": {\"outlinewidth\": 0, \"ticks\": \"\"}}, \"type\": \"parcoords\"}], \"pie\": [{\"automargin\": true, \"type\": \"pie\"}], \"scatter\": [{\"marker\": {\"colorbar\": {\"outlinewidth\": 0, \"ticks\": \"\"}}, \"type\": \"scatter\"}], \"scatter3d\": [{\"line\": {\"colorbar\": {\"outlinewidth\": 0, \"ticks\": \"\"}}, \"marker\": {\"colorbar\": {\"outlinewidth\": 0, \"ticks\": \"\"}}, \"type\": \"scatter3d\"}], \"scattercarpet\": [{\"marker\": {\"colorbar\": {\"outlinewidth\": 0, \"ticks\": \"\"}}, \"type\": \"scattercarpet\"}], \"scattergeo\": [{\"marker\": {\"colorbar\": {\"outlinewidth\": 0, \"ticks\": \"\"}}, \"type\": \"scattergeo\"}], \"scattergl\": [{\"marker\": {\"colorbar\": {\"outlinewidth\": 0, \"ticks\": \"\"}}, \"type\": \"scattergl\"}], \"scattermapbox\": [{\"marker\": {\"colorbar\": {\"outlinewidth\": 0, \"ticks\": \"\"}}, \"type\": \"scattermapbox\"}], \"scatterpolar\": [{\"marker\": {\"colorbar\": {\"outlinewidth\": 0, \"ticks\": \"\"}}, \"type\": \"scatterpolar\"}], \"scatterpolargl\": [{\"marker\": {\"colorbar\": {\"outlinewidth\": 0, \"ticks\": \"\"}}, \"type\": \"scatterpolargl\"}], \"scatterternary\": [{\"marker\": {\"colorbar\": {\"outlinewidth\": 0, \"ticks\": \"\"}}, \"type\": \"scatterternary\"}], \"surface\": [{\"colorbar\": {\"outlinewidth\": 0, \"ticks\": \"\"}, \"colorscale\": [[0.0, \"#0d0887\"], [0.1111111111111111, \"#46039f\"], [0.2222222222222222, \"#7201a8\"], [0.3333333333333333, \"#9c179e\"], [0.4444444444444444, \"#bd3786\"], [0.5555555555555556, \"#d8576b\"], [0.6666666666666666, \"#ed7953\"], [0.7777777777777778, \"#fb9f3a\"], [0.8888888888888888, \"#fdca26\"], [1.0, \"#f0f921\"]], \"type\": \"surface\"}], \"table\": [{\"cells\": {\"fill\": {\"color\": \"#EBF0F8\"}, \"line\": {\"color\": \"white\"}}, \"header\": {\"fill\": {\"color\": \"#C8D4E3\"}, \"line\": {\"color\": \"white\"}}, \"type\": \"table\"}]}, \"layout\": {\"annotationdefaults\": {\"arrowcolor\": \"#2a3f5f\", \"arrowhead\": 0, \"arrowwidth\": 1}, \"coloraxis\": {\"colorbar\": {\"outlinewidth\": 0, \"ticks\": \"\"}}, \"colorscale\": {\"diverging\": [[0, \"#8e0152\"], [0.1, \"#c51b7d\"], [0.2, \"#de77ae\"], [0.3, \"#f1b6da\"], [0.4, \"#fde0ef\"], [0.5, \"#f7f7f7\"], [0.6, \"#e6f5d0\"], [0.7, \"#b8e186\"], [0.8, \"#7fbc41\"], [0.9, \"#4d9221\"], [1, \"#276419\"]], \"sequential\": [[0.0, \"#0d0887\"], [0.1111111111111111, \"#46039f\"], [0.2222222222222222, \"#7201a8\"], [0.3333333333333333, \"#9c179e\"], [0.4444444444444444, \"#bd3786\"], [0.5555555555555556, \"#d8576b\"], [0.6666666666666666, \"#ed7953\"], [0.7777777777777778, \"#fb9f3a\"], [0.8888888888888888, \"#fdca26\"], [1.0, \"#f0f921\"]], \"sequentialminus\": [[0.0, \"#0d0887\"], [0.1111111111111111, \"#46039f\"], [0.2222222222222222, \"#7201a8\"], [0.3333333333333333, \"#9c179e\"], [0.4444444444444444, \"#bd3786\"], [0.5555555555555556, \"#d8576b\"], [0.6666666666666666, \"#ed7953\"], [0.7777777777777778, \"#fb9f3a\"], [0.8888888888888888, \"#fdca26\"], [1.0, \"#f0f921\"]]}, \"colorway\": [\"#636efa\", \"#EF553B\", \"#00cc96\", \"#ab63fa\", \"#FFA15A\", \"#19d3f3\", \"#FF6692\", \"#B6E880\", \"#FF97FF\", \"#FECB52\"], \"font\": {\"color\": \"#2a3f5f\"}, \"geo\": {\"bgcolor\": \"white\", \"lakecolor\": \"white\", \"landcolor\": \"#E5ECF6\", \"showlakes\": true, \"showland\": true, \"subunitcolor\": \"white\"}, \"hoverlabel\": {\"align\": \"left\"}, \"hovermode\": \"closest\", \"mapbox\": {\"style\": \"light\"}, \"paper_bgcolor\": \"white\", \"plot_bgcolor\": \"#E5ECF6\", \"polar\": {\"angularaxis\": {\"gridcolor\": \"white\", \"linecolor\": \"white\", \"ticks\": \"\"}, \"bgcolor\": \"#E5ECF6\", \"radialaxis\": {\"gridcolor\": \"white\", \"linecolor\": \"white\", \"ticks\": \"\"}}, \"scene\": {\"xaxis\": {\"backgroundcolor\": \"#E5ECF6\", \"gridcolor\": \"white\", \"gridwidth\": 2, \"linecolor\": \"white\", \"showbackground\": true, \"ticks\": \"\", \"zerolinecolor\": \"white\"}, \"yaxis\": {\"backgroundcolor\": \"#E5ECF6\", \"gridcolor\": \"white\", \"gridwidth\": 2, \"linecolor\": \"white\", \"showbackground\": true, \"ticks\": \"\", \"zerolinecolor\": \"white\"}, \"zaxis\": {\"backgroundcolor\": \"#E5ECF6\", \"gridcolor\": \"white\", \"gridwidth\": 2, \"linecolor\": \"white\", \"showbackground\": true, \"ticks\": \"\", \"zerolinecolor\": \"white\"}}, \"shapedefaults\": {\"line\": {\"color\": \"#2a3f5f\"}}, \"ternary\": {\"aaxis\": {\"gridcolor\": \"white\", \"linecolor\": \"white\", \"ticks\": \"\"}, \"baxis\": {\"gridcolor\": \"white\", \"linecolor\": \"white\", \"ticks\": \"\"}, \"bgcolor\": \"#E5ECF6\", \"caxis\": {\"gridcolor\": \"white\", \"linecolor\": \"white\", \"ticks\": \"\"}}, \"title\": {\"x\": 0.05}, \"xaxis\": {\"automargin\": true, \"gridcolor\": \"white\", \"linecolor\": \"white\", \"ticks\": \"\", \"title\": {\"standoff\": 15}, \"zerolinecolor\": \"white\", \"zerolinewidth\": 2}, \"yaxis\": {\"automargin\": true, \"gridcolor\": \"white\", \"linecolor\": \"white\", \"ticks\": \"\", \"title\": {\"standoff\": 15}, \"zerolinecolor\": \"white\", \"zerolinewidth\": 2}}}, \"title\": {\"text\": \"\\u0413\\u0440\\u0430\\u0444\\u0438\\u043a \\u0432\\u0440\\u0435\\u043c\\u0435\\u043d\\u0438 \\u0432\\u044b\\u043f\\u043e\\u043b\\u043d\\u0435\\u043d\\u0438\\u044f \\u043f\\u0440\\u043e\\u0433\\u0440\\u0430\\u043c\\u043c\\u044b \\u043d\\u0430 N-\\u044d\\u043b\\u0435\\u043c\\u0435\\u043d\\u0442\\u043e\\u0432 \\u0432 K-\\u043f\\u043e\\u0442\\u043e\\u043a\\u043e\\u0432\"}, \"xaxis\": {\"title\": {\"text\": \"N, elements\"}}, \"yaxis\": {\"title\": {\"text\": \"Time, ms\"}}},                        {\"responsive\": true}                    ).then(function(){\n",
       "                            \n",
       "var gd = document.getElementById('b740ae81-f925-461c-915c-9ed3b274a013');\n",
       "var x = new MutationObserver(function (mutations, observer) {{\n",
       "        var display = window.getComputedStyle(gd).display;\n",
       "        if (!display || display === 'none') {{\n",
       "            console.log([gd, 'removed!']);\n",
       "            Plotly.purge(gd);\n",
       "            observer.disconnect();\n",
       "        }}\n",
       "}});\n",
       "\n",
       "// Listen for the removal of the full notebook cells\n",
       "var notebookContainer = gd.closest('#notebook-container');\n",
       "if (notebookContainer) {{\n",
       "    x.observe(notebookContainer, {childList: true});\n",
       "}}\n",
       "\n",
       "// Listen for the clearing of the current output cell\n",
       "var outputEl = gd.closest('.output');\n",
       "if (outputEl) {{\n",
       "    x.observe(outputEl, {childList: true});\n",
       "}}\n",
       "\n",
       "                        })                };                });            </script>        </div>"
      ]
     },
     "metadata": {},
     "output_type": "display_data"
    }
   ],
   "source": [
    "fig = go.Figure()\n",
    "fig.add_trace(go.Scatter(x=data['N'], y=data['Ms-output-seq'], name='seq'))\n",
    "fig.add_trace(go.Scatter(x=data['N'], y=data['Ms-output-par-2'], name='par-2'))\n",
    "fig.add_trace(go.Scatter(x=data['N'], y=data['Ms-output-par-4'], name='par-4'))\n",
    "fig.add_trace(go.Scatter(x=data['N'], y=data['Ms-output-par-5'], name='par-5'))\n",
    "fig.add_trace(go.Scatter(x=data['N'], y=data['Ms-output-par-8'], name='par-8'))\n",
    "fig.update_yaxes(title='Time, ms')\n",
    "fig.update_xaxes(title='N, elements')\n",
    "fig.update_layout(title='График времени выполнения программы на N-элементов в K-потоков')\n",
    "fig.show()"
   ]
  },
  {
   "cell_type": "code",
   "execution_count": 46,
   "metadata": {},
   "outputs": [
    {
     "data": {
      "text/html": [
       "<div>\n",
       "<style scoped>\n",
       "    .dataframe tbody tr th:only-of-type {\n",
       "        vertical-align: middle;\n",
       "    }\n",
       "\n",
       "    .dataframe tbody tr th {\n",
       "        vertical-align: top;\n",
       "    }\n",
       "\n",
       "    .dataframe thead th {\n",
       "        text-align: right;\n",
       "    }\n",
       "</style>\n",
       "<table border=\"1\" class=\"dataframe\">\n",
       "  <thead>\n",
       "    <tr style=\"text-align: right;\">\n",
       "      <th></th>\n",
       "      <th>N</th>\n",
       "      <th>Ms-output-seq</th>\n",
       "      <th>Ms-output-par-2</th>\n",
       "      <th>Ms-output-par-4</th>\n",
       "      <th>Ms-output-par-5</th>\n",
       "      <th>Ms-output-par-8</th>\n",
       "    </tr>\n",
       "  </thead>\n",
       "  <tbody>\n",
       "    <tr>\n",
       "      <th>0</th>\n",
       "      <td>1500</td>\n",
       "      <td>11</td>\n",
       "      <td>37</td>\n",
       "      <td>22</td>\n",
       "      <td>55</td>\n",
       "      <td>40</td>\n",
       "    </tr>\n",
       "    <tr>\n",
       "      <th>1</th>\n",
       "      <td>28850</td>\n",
       "      <td>232</td>\n",
       "      <td>522</td>\n",
       "      <td>255</td>\n",
       "      <td>232</td>\n",
       "      <td>327</td>\n",
       "    </tr>\n",
       "    <tr>\n",
       "      <th>2</th>\n",
       "      <td>56200</td>\n",
       "      <td>419</td>\n",
       "      <td>455</td>\n",
       "      <td>424</td>\n",
       "      <td>387</td>\n",
       "      <td>443</td>\n",
       "    </tr>\n",
       "    <tr>\n",
       "      <th>3</th>\n",
       "      <td>83550</td>\n",
       "      <td>611</td>\n",
       "      <td>565</td>\n",
       "      <td>551</td>\n",
       "      <td>560</td>\n",
       "      <td>540</td>\n",
       "    </tr>\n",
       "    <tr>\n",
       "      <th>4</th>\n",
       "      <td>110900</td>\n",
       "      <td>793</td>\n",
       "      <td>746</td>\n",
       "      <td>703</td>\n",
       "      <td>707</td>\n",
       "      <td>723</td>\n",
       "    </tr>\n",
       "    <tr>\n",
       "      <th>5</th>\n",
       "      <td>138250</td>\n",
       "      <td>997</td>\n",
       "      <td>911</td>\n",
       "      <td>882</td>\n",
       "      <td>872</td>\n",
       "      <td>865</td>\n",
       "    </tr>\n",
       "    <tr>\n",
       "      <th>6</th>\n",
       "      <td>165600</td>\n",
       "      <td>1209</td>\n",
       "      <td>1042</td>\n",
       "      <td>1027</td>\n",
       "      <td>1063</td>\n",
       "      <td>1031</td>\n",
       "    </tr>\n",
       "    <tr>\n",
       "      <th>7</th>\n",
       "      <td>192950</td>\n",
       "      <td>1395</td>\n",
       "      <td>1228</td>\n",
       "      <td>1191</td>\n",
       "      <td>1210</td>\n",
       "      <td>1190</td>\n",
       "    </tr>\n",
       "    <tr>\n",
       "      <th>8</th>\n",
       "      <td>220300</td>\n",
       "      <td>1623</td>\n",
       "      <td>1386</td>\n",
       "      <td>1375</td>\n",
       "      <td>1407</td>\n",
       "      <td>1438</td>\n",
       "    </tr>\n",
       "    <tr>\n",
       "      <th>9</th>\n",
       "      <td>247650</td>\n",
       "      <td>1797</td>\n",
       "      <td>1675</td>\n",
       "      <td>1540</td>\n",
       "      <td>1554</td>\n",
       "      <td>1551</td>\n",
       "    </tr>\n",
       "    <tr>\n",
       "      <th>10</th>\n",
       "      <td>275000</td>\n",
       "      <td>2000</td>\n",
       "      <td>1781</td>\n",
       "      <td>1682</td>\n",
       "      <td>1725</td>\n",
       "      <td>1717</td>\n",
       "    </tr>\n",
       "  </tbody>\n",
       "</table>\n",
       "</div>"
      ],
      "text/plain": [
       "         N  Ms-output-seq  Ms-output-par-2  Ms-output-par-4  Ms-output-par-5  \\\n",
       "0     1500             11               37               22               55   \n",
       "1    28850            232              522              255              232   \n",
       "2    56200            419              455              424              387   \n",
       "3    83550            611              565              551              560   \n",
       "4   110900            793              746              703              707   \n",
       "5   138250            997              911              882              872   \n",
       "6   165600           1209             1042             1027             1063   \n",
       "7   192950           1395             1228             1191             1210   \n",
       "8   220300           1623             1386             1375             1407   \n",
       "9   247650           1797             1675             1540             1554   \n",
       "10  275000           2000             1781             1682             1725   \n",
       "\n",
       "    Ms-output-par-8  \n",
       "0                40  \n",
       "1               327  \n",
       "2               443  \n",
       "3               540  \n",
       "4               723  \n",
       "5               865  \n",
       "6              1031  \n",
       "7              1190  \n",
       "8              1438  \n",
       "9              1551  \n",
       "10             1717  "
      ]
     },
     "execution_count": 46,
     "metadata": {},
     "output_type": "execute_result"
    }
   ],
   "source": [
    "data"
   ]
  },
  {
   "cell_type": "code",
   "execution_count": 49,
   "metadata": {},
   "outputs": [],
   "source": [
    "for i in [2,4,5,8]:\n",
    "    data[f'parallel_speed_up_{i}'] = data['Ms-output-seq'] / data[f'Ms-output-par-{i}']\n",
    "    data[f'parallel_efficiency_{i}'] = data[f'parallel_speed_up_{i}'] / i"
   ]
  },
  {
   "cell_type": "code",
   "execution_count": 50,
   "metadata": {},
   "outputs": [
    {
     "data": {
      "text/html": [
       "<div>\n",
       "<style scoped>\n",
       "    .dataframe tbody tr th:only-of-type {\n",
       "        vertical-align: middle;\n",
       "    }\n",
       "\n",
       "    .dataframe tbody tr th {\n",
       "        vertical-align: top;\n",
       "    }\n",
       "\n",
       "    .dataframe thead th {\n",
       "        text-align: right;\n",
       "    }\n",
       "</style>\n",
       "<table border=\"1\" class=\"dataframe\">\n",
       "  <thead>\n",
       "    <tr style=\"text-align: right;\">\n",
       "      <th></th>\n",
       "      <th>N</th>\n",
       "      <th>Ms-output-seq</th>\n",
       "      <th>Ms-output-par-2</th>\n",
       "      <th>Ms-output-par-4</th>\n",
       "      <th>Ms-output-par-5</th>\n",
       "      <th>Ms-output-par-8</th>\n",
       "      <th>parallel_speed_up_2</th>\n",
       "      <th>parallel_speed_up_4</th>\n",
       "      <th>parallel_speed_up_5</th>\n",
       "      <th>parallel_speed_up_8</th>\n",
       "      <th>parallel_efficiency_2</th>\n",
       "      <th>parallel_efficiency_4</th>\n",
       "      <th>parallel_efficiency_5</th>\n",
       "      <th>parallel_efficiency_8</th>\n",
       "    </tr>\n",
       "  </thead>\n",
       "  <tbody>\n",
       "    <tr>\n",
       "      <th>0</th>\n",
       "      <td>1500</td>\n",
       "      <td>11</td>\n",
       "      <td>37</td>\n",
       "      <td>22</td>\n",
       "      <td>55</td>\n",
       "      <td>40</td>\n",
       "      <td>0.297297</td>\n",
       "      <td>0.500000</td>\n",
       "      <td>0.200000</td>\n",
       "      <td>0.275000</td>\n",
       "      <td>0.148649</td>\n",
       "      <td>0.125000</td>\n",
       "      <td>0.040000</td>\n",
       "      <td>0.034375</td>\n",
       "    </tr>\n",
       "    <tr>\n",
       "      <th>1</th>\n",
       "      <td>28850</td>\n",
       "      <td>232</td>\n",
       "      <td>522</td>\n",
       "      <td>255</td>\n",
       "      <td>232</td>\n",
       "      <td>327</td>\n",
       "      <td>0.444444</td>\n",
       "      <td>0.909804</td>\n",
       "      <td>1.000000</td>\n",
       "      <td>0.709480</td>\n",
       "      <td>0.222222</td>\n",
       "      <td>0.227451</td>\n",
       "      <td>0.200000</td>\n",
       "      <td>0.088685</td>\n",
       "    </tr>\n",
       "    <tr>\n",
       "      <th>2</th>\n",
       "      <td>56200</td>\n",
       "      <td>419</td>\n",
       "      <td>455</td>\n",
       "      <td>424</td>\n",
       "      <td>387</td>\n",
       "      <td>443</td>\n",
       "      <td>0.920879</td>\n",
       "      <td>0.988208</td>\n",
       "      <td>1.082687</td>\n",
       "      <td>0.945824</td>\n",
       "      <td>0.460440</td>\n",
       "      <td>0.247052</td>\n",
       "      <td>0.216537</td>\n",
       "      <td>0.118228</td>\n",
       "    </tr>\n",
       "    <tr>\n",
       "      <th>3</th>\n",
       "      <td>83550</td>\n",
       "      <td>611</td>\n",
       "      <td>565</td>\n",
       "      <td>551</td>\n",
       "      <td>560</td>\n",
       "      <td>540</td>\n",
       "      <td>1.081416</td>\n",
       "      <td>1.108893</td>\n",
       "      <td>1.091071</td>\n",
       "      <td>1.131481</td>\n",
       "      <td>0.540708</td>\n",
       "      <td>0.277223</td>\n",
       "      <td>0.218214</td>\n",
       "      <td>0.141435</td>\n",
       "    </tr>\n",
       "    <tr>\n",
       "      <th>4</th>\n",
       "      <td>110900</td>\n",
       "      <td>793</td>\n",
       "      <td>746</td>\n",
       "      <td>703</td>\n",
       "      <td>707</td>\n",
       "      <td>723</td>\n",
       "      <td>1.063003</td>\n",
       "      <td>1.128023</td>\n",
       "      <td>1.121641</td>\n",
       "      <td>1.096819</td>\n",
       "      <td>0.531501</td>\n",
       "      <td>0.282006</td>\n",
       "      <td>0.224328</td>\n",
       "      <td>0.137102</td>\n",
       "    </tr>\n",
       "    <tr>\n",
       "      <th>5</th>\n",
       "      <td>138250</td>\n",
       "      <td>997</td>\n",
       "      <td>911</td>\n",
       "      <td>882</td>\n",
       "      <td>872</td>\n",
       "      <td>865</td>\n",
       "      <td>1.094402</td>\n",
       "      <td>1.130385</td>\n",
       "      <td>1.143349</td>\n",
       "      <td>1.152601</td>\n",
       "      <td>0.547201</td>\n",
       "      <td>0.282596</td>\n",
       "      <td>0.228670</td>\n",
       "      <td>0.144075</td>\n",
       "    </tr>\n",
       "    <tr>\n",
       "      <th>6</th>\n",
       "      <td>165600</td>\n",
       "      <td>1209</td>\n",
       "      <td>1042</td>\n",
       "      <td>1027</td>\n",
       "      <td>1063</td>\n",
       "      <td>1031</td>\n",
       "      <td>1.160269</td>\n",
       "      <td>1.177215</td>\n",
       "      <td>1.137347</td>\n",
       "      <td>1.172648</td>\n",
       "      <td>0.580134</td>\n",
       "      <td>0.294304</td>\n",
       "      <td>0.227469</td>\n",
       "      <td>0.146581</td>\n",
       "    </tr>\n",
       "    <tr>\n",
       "      <th>7</th>\n",
       "      <td>192950</td>\n",
       "      <td>1395</td>\n",
       "      <td>1228</td>\n",
       "      <td>1191</td>\n",
       "      <td>1210</td>\n",
       "      <td>1190</td>\n",
       "      <td>1.135993</td>\n",
       "      <td>1.171285</td>\n",
       "      <td>1.152893</td>\n",
       "      <td>1.172269</td>\n",
       "      <td>0.567997</td>\n",
       "      <td>0.292821</td>\n",
       "      <td>0.230579</td>\n",
       "      <td>0.146534</td>\n",
       "    </tr>\n",
       "    <tr>\n",
       "      <th>8</th>\n",
       "      <td>220300</td>\n",
       "      <td>1623</td>\n",
       "      <td>1386</td>\n",
       "      <td>1375</td>\n",
       "      <td>1407</td>\n",
       "      <td>1438</td>\n",
       "      <td>1.170996</td>\n",
       "      <td>1.180364</td>\n",
       "      <td>1.153518</td>\n",
       "      <td>1.128651</td>\n",
       "      <td>0.585498</td>\n",
       "      <td>0.295091</td>\n",
       "      <td>0.230704</td>\n",
       "      <td>0.141081</td>\n",
       "    </tr>\n",
       "    <tr>\n",
       "      <th>9</th>\n",
       "      <td>247650</td>\n",
       "      <td>1797</td>\n",
       "      <td>1675</td>\n",
       "      <td>1540</td>\n",
       "      <td>1554</td>\n",
       "      <td>1551</td>\n",
       "      <td>1.072836</td>\n",
       "      <td>1.166883</td>\n",
       "      <td>1.156371</td>\n",
       "      <td>1.158607</td>\n",
       "      <td>0.536418</td>\n",
       "      <td>0.291721</td>\n",
       "      <td>0.231274</td>\n",
       "      <td>0.144826</td>\n",
       "    </tr>\n",
       "    <tr>\n",
       "      <th>10</th>\n",
       "      <td>275000</td>\n",
       "      <td>2000</td>\n",
       "      <td>1781</td>\n",
       "      <td>1682</td>\n",
       "      <td>1725</td>\n",
       "      <td>1717</td>\n",
       "      <td>1.122965</td>\n",
       "      <td>1.189061</td>\n",
       "      <td>1.159420</td>\n",
       "      <td>1.164822</td>\n",
       "      <td>0.561482</td>\n",
       "      <td>0.297265</td>\n",
       "      <td>0.231884</td>\n",
       "      <td>0.145603</td>\n",
       "    </tr>\n",
       "  </tbody>\n",
       "</table>\n",
       "</div>"
      ],
      "text/plain": [
       "         N  Ms-output-seq  Ms-output-par-2  Ms-output-par-4  Ms-output-par-5  \\\n",
       "0     1500             11               37               22               55   \n",
       "1    28850            232              522              255              232   \n",
       "2    56200            419              455              424              387   \n",
       "3    83550            611              565              551              560   \n",
       "4   110900            793              746              703              707   \n",
       "5   138250            997              911              882              872   \n",
       "6   165600           1209             1042             1027             1063   \n",
       "7   192950           1395             1228             1191             1210   \n",
       "8   220300           1623             1386             1375             1407   \n",
       "9   247650           1797             1675             1540             1554   \n",
       "10  275000           2000             1781             1682             1725   \n",
       "\n",
       "    Ms-output-par-8  parallel_speed_up_2  parallel_speed_up_4  \\\n",
       "0                40             0.297297             0.500000   \n",
       "1               327             0.444444             0.909804   \n",
       "2               443             0.920879             0.988208   \n",
       "3               540             1.081416             1.108893   \n",
       "4               723             1.063003             1.128023   \n",
       "5               865             1.094402             1.130385   \n",
       "6              1031             1.160269             1.177215   \n",
       "7              1190             1.135993             1.171285   \n",
       "8              1438             1.170996             1.180364   \n",
       "9              1551             1.072836             1.166883   \n",
       "10             1717             1.122965             1.189061   \n",
       "\n",
       "    parallel_speed_up_5  parallel_speed_up_8  parallel_efficiency_2  \\\n",
       "0              0.200000             0.275000               0.148649   \n",
       "1              1.000000             0.709480               0.222222   \n",
       "2              1.082687             0.945824               0.460440   \n",
       "3              1.091071             1.131481               0.540708   \n",
       "4              1.121641             1.096819               0.531501   \n",
       "5              1.143349             1.152601               0.547201   \n",
       "6              1.137347             1.172648               0.580134   \n",
       "7              1.152893             1.172269               0.567997   \n",
       "8              1.153518             1.128651               0.585498   \n",
       "9              1.156371             1.158607               0.536418   \n",
       "10             1.159420             1.164822               0.561482   \n",
       "\n",
       "    parallel_efficiency_4  parallel_efficiency_5  parallel_efficiency_8  \n",
       "0                0.125000               0.040000               0.034375  \n",
       "1                0.227451               0.200000               0.088685  \n",
       "2                0.247052               0.216537               0.118228  \n",
       "3                0.277223               0.218214               0.141435  \n",
       "4                0.282006               0.224328               0.137102  \n",
       "5                0.282596               0.228670               0.144075  \n",
       "6                0.294304               0.227469               0.146581  \n",
       "7                0.292821               0.230579               0.146534  \n",
       "8                0.295091               0.230704               0.141081  \n",
       "9                0.291721               0.231274               0.144826  \n",
       "10               0.297265               0.231884               0.145603  "
      ]
     },
     "execution_count": 50,
     "metadata": {},
     "output_type": "execute_result"
    }
   ],
   "source": [
    "data"
   ]
  },
  {
   "cell_type": "code",
   "execution_count": null,
   "metadata": {},
   "outputs": [],
   "source": []
  },
  {
   "cell_type": "code",
   "execution_count": null,
   "metadata": {},
   "outputs": [],
   "source": []
  },
  {
   "cell_type": "code",
   "execution_count": null,
   "metadata": {},
   "outputs": [],
   "source": []
  },
  {
   "cell_type": "code",
   "execution_count": null,
   "metadata": {},
   "outputs": [],
   "source": []
  }
 ],
 "metadata": {
  "kernelspec": {
   "display_name": "Python 3",
   "language": "python",
   "name": "python3"
  },
  "language_info": {
   "codemirror_mode": {
    "name": "ipython",
    "version": 3
   },
   "file_extension": ".py",
   "mimetype": "text/x-python",
   "name": "python",
   "nbconvert_exporter": "python",
   "pygments_lexer": "ipython3",
   "version": "3.7.6"
  }
 },
 "nbformat": 4,
 "nbformat_minor": 4
}
